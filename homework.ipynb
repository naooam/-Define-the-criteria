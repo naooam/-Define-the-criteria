{
  "cells": [
    {
      "cell_type": "code",
      "source": [
        "import tensorflow as tf\n",
        "import tensorflow_hub as hub\n",
        "import soundfile as sf\n",
        "import numpy as np\n",
        "import librosa\n",
        "import csv\n",
        "\n",
        "# Load YAMNet model from TensorFlow Hub\n",
        "yamnet_model = hub.load('https://tfhub.dev/google/yamnet/1')\n",
        "\n",
        "# Function to extract class names from CSV\n",
        "def class_names_from_csv(class_map_csv_text):\n",
        "    class_names = []\n",
        "    with tf.io.gfile.GFile(class_map_csv_text) as csvfile:\n",
        "        reader = csv.DictReader(csvfile)\n",
        "        for row in reader:\n",
        "            class_names.append(row['display_name'])\n",
        "    return class_names\n",
        "\n",
        "# Retrieve class map path and class names from YAMNet model\n",
        "class_map_path = yamnet_model.class_map_path().numpy()\n",
        "class_names = class_names_from_csv(class_map_path)"
      ],
      "metadata": {
        "id": "Z-jvG6PA4fi6"
      },
      "execution_count": 2,
      "outputs": []
    },
    {
      "cell_type": "code",
      "source": [
        "# Function to ensure the desired sample rate\n",
        "def ensure_sample_rate(file_path, desired_sample_rate=16000):\n",
        "    y, sr = librosa.load(file_path, sr=None)\n",
        "    if sr != desired_sample_rate:\n",
        "        y = librosa.resample(y, orig_sr=sr, target_sr=desired_sample_rate)\n",
        "    return y, desired_sample_rate\n",
        "\n",
        "# Function to preprocess audio (returns waveform tensor)\n",
        "def preprocess_audio(file_path):\n",
        "    waveform, sr = ensure_sample_rate(file_path)\n",
        "    waveform = tf.convert_to_tensor(waveform, dtype=tf.float32)\n",
        "    return waveform"
      ],
      "metadata": {
        "id": "SabL6wIa7AVW"
      },
      "execution_count": 3,
      "outputs": []
    },
    {
      "cell_type": "code",
      "source": [
        "# Function to classify audio and return predicted label and class scores\n",
        "def classify_audio(file_path):\n",
        "    waveform = preprocess_audio(file_path)\n",
        "    scores, embeddings, spectrogram = yamnet_model(waveform)\n",
        "    class_scores = scores.numpy().mean(axis=0)\n",
        "    top_class_index = np.argmax(class_scores)\n",
        "    top_class_name = class_names[top_class_index]\n",
        "    return top_class_name, class_scores\n",
        "\n",
        "# Audio file path\n",
        "audio_path = '/content/drive/MyDrive/Apple RED/صوت نبض القلب للمونتاج.mp3'\n",
        "predicted_label, class_scores = classify_audio(audio_path)\n",
        "print(\"Predicted Label:\", predicted_label)"
      ],
      "metadata": {
        "colab": {
          "base_uri": "https://localhost:8080/"
        },
        "id": "MJp9RiXy7RC7",
        "outputId": "c6c2f9dd-4344-48ea-fc6d-dc4cb6d9d81a"
      },
      "execution_count": 4,
      "outputs": [
        {
          "output_type": "stream",
          "name": "stdout",
          "text": [
            "Predicted Label: Heart sounds, heartbeat\n"
          ]
        }
      ]
    },
    {
      "cell_type": "code",
      "source": [
        "# Function to ensure the desired sample rate\n",
        "def ensure_sample_rate(file_path, desired_sample_rate=8000):\n",
        "    y, sr = librosa.load(file_path, sr=None)\n",
        "    if sr != desired_sample_rate:\n",
        "        y = librosa.resample(y, orig_sr=sr, target_sr=desired_sample_rate)\n",
        "    return y, desired_sample_rate\n",
        "\n",
        "# Function to preprocess audio (returns waveform tensor)\n",
        "def preprocess_audio(file_path):\n",
        "    waveform, sr = ensure_sample_rate(file_path)\n",
        "    waveform = tf.convert_to_tensor(waveform, dtype=tf.float32)\n",
        "    return waveform"
      ],
      "metadata": {
        "id": "LXQXQZ2W7xS-"
      },
      "execution_count": 6,
      "outputs": []
    },
    {
      "cell_type": "code",
      "source": [
        "# Function to classify audio and return predicted label and class scores\n",
        "def classify_audio(file_path):\n",
        "    waveform = preprocess_audio(file_path)\n",
        "    scores, embeddings, spectrogram = yamnet_model(waveform)\n",
        "    class_scores = scores.numpy().mean(axis=0)\n",
        "    top_class_index = np.argmax(class_scores)\n",
        "    top_class_name = class_names[top_class_index]\n",
        "    return top_class_name, class_scores\n",
        "\n",
        "# Audio file path\n",
        "audio_path = '/content/drive/MyDrive/Apple RED/صوت نبض القلب للمونتاج.mp3'\n",
        "predicted_label, class_scores = classify_audio(audio_path)\n",
        "print(\"Predicted Label:\", predicted_label)"
      ],
      "metadata": {
        "colab": {
          "base_uri": "https://localhost:8080/"
        },
        "id": "QUBptzyB73NJ",
        "outputId": "80d981c7-2fac-47ea-b48f-cd9aa8c23772"
      },
      "execution_count": 7,
      "outputs": [
        {
          "output_type": "stream",
          "name": "stdout",
          "text": [
            "Predicted Label: Heart sounds, heartbeat\n"
          ]
        }
      ]
    },
    {
      "cell_type": "code",
      "source": [
        "# Function to ensure the desired sample rate\n",
        "def ensure_sample_rate(file_path, desired_sample_rate=22.050):\n",
        "    y, sr = librosa.load(file_path, sr=None)\n",
        "    if sr != desired_sample_rate:\n",
        "        y = librosa.resample(y, orig_sr=sr, target_sr=desired_sample_rate)\n",
        "    return y, desired_sample_rate\n",
        "\n",
        "# Function to preprocess audio (returns waveform tensor)\n",
        "def preprocess_audio(file_path):\n",
        "    waveform, sr = ensure_sample_rate(file_path)\n",
        "    waveform = tf.convert_to_tensor(waveform, dtype=tf.float32)\n",
        "    return waveform"
      ],
      "metadata": {
        "id": "sR1CLXHG7_PZ"
      },
      "execution_count": 9,
      "outputs": []
    },
    {
      "cell_type": "code",
      "source": [
        "# Function to classify audio and return predicted label and class scores\n",
        "def classify_audio(file_path):\n",
        "    waveform = preprocess_audio(file_path)\n",
        "    scores, embeddings, spectrogram = yamnet_model(waveform)\n",
        "    class_scores = scores.numpy().mean(axis=0)\n",
        "    top_class_index = np.argmax(class_scores)\n",
        "    top_class_name = class_names[top_class_index]\n",
        "    return top_class_name, class_scores\n",
        "\n",
        "# Audio file path\n",
        "audio_path = '/content/drive/MyDrive/Apple RED/صوت نبض القلب للمونتاج.mp3'\n",
        "predicted_label, class_scores = classify_audio(audio_path)\n",
        "print(\"Predicted Label:\", predicted_label)"
      ],
      "metadata": {
        "colab": {
          "base_uri": "https://localhost:8080/"
        },
        "id": "hDcUghhJ8OD_",
        "outputId": "904c68eb-fcc8-4c6e-9594-c79811a33eab"
      },
      "execution_count": 10,
      "outputs": [
        {
          "output_type": "stream",
          "name": "stdout",
          "text": [
            "Predicted Label: Silence\n"
          ]
        }
      ]
    }
  ],
  "metadata": {
    "colab": {
      "provenance": []
    },
    "kernelspec": {
      "display_name": "Python 3",
      "name": "python3"
    },
    "language_info": {
      "name": "python"
    }
  },
  "nbformat": 4,
  "nbformat_minor": 0
}